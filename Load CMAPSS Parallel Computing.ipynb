{
 "cells": [
  {
   "cell_type": "markdown",
   "id": "e7226b43",
   "metadata": {},
   "source": [
    " # Custom training with tf.distribute.Strategy"
   ]
  },
  {
   "cell_type": "code",
   "execution_count": 1,
   "id": "303614e4",
   "metadata": {},
   "outputs": [
    {
     "name": "stdout",
     "output_type": "stream",
     "text": [
      "2.10.0\n"
     ]
    }
   ],
   "source": [
    "# Import TensorFlow\n",
    "import tensorflow as tf\n",
    "\n",
    "# Helper libraries\n",
    "import numpy as np\n",
    "import os\n",
    "\n",
    "print(tf.__version__)"
   ]
  },
  {
   "cell_type": "markdown",
   "id": "a25ead36",
   "metadata": {},
   "source": [
    "## Create a strategy to distribute the variables and the graph"
   ]
  },
  {
   "cell_type": "code",
   "execution_count": 3,
   "id": "806dc085",
   "metadata": {},
   "outputs": [
    {
     "name": "stdout",
     "output_type": "stream",
     "text": [
      "WARNING:tensorflow:There are non-GPU devices in `tf.distribute.Strategy`, not using nccl allreduce.\n",
      "INFO:tensorflow:Using MirroredStrategy with devices ('/job:localhost/replica:0/task:0/device:CPU:0',)\n"
     ]
    }
   ],
   "source": [
    "# If the list of devices is not specified in\n",
    "# `tf.distribute.MirroredStrategy` constructor, they will be auto-detected.\n",
    "strategy = tf.distribute.MirroredStrategy()"
   ]
  },
  {
   "cell_type": "code",
   "execution_count": 4,
   "id": "1ed1621d",
   "metadata": {},
   "outputs": [
    {
     "name": "stdout",
     "output_type": "stream",
     "text": [
      "Number of devices: 1\n"
     ]
    }
   ],
   "source": [
    "print('Number of devices: {}'.format(strategy.num_replicas_in_sync))"
   ]
  },
  {
   "cell_type": "markdown",
   "id": "1d0af9c7",
   "metadata": {},
   "source": [
    "## Setup input pipeline"
   ]
  },
  {
   "cell_type": "code",
   "execution_count": 5,
   "id": "e61c8c1e",
   "metadata": {},
   "outputs": [],
   "source": [
    "def read_h5_file(resources_path, name):\n",
    "    # Read numpy array \n",
    "    hf = h5py.File(resources_path+name+\"-centralized.h5\", 'r')\n",
    "    return np.array(hf[name][:])"
   ]
  },
  {
   "cell_type": "code",
   "execution_count": 6,
   "id": "9fd29079",
   "metadata": {},
   "outputs": [],
   "source": [
    "nodes = 4 "
   ]
  },
  {
   "cell_type": "code",
   "execution_count": null,
   "id": "fcb07b24",
   "metadata": {},
   "outputs": [],
   "source": [
    "resources_path = dataset_path+\"data-centralized-\"+str(model)+\"/\"\n",
    "        X_train=read_h5_file(resources_path, \"X_train\")\n",
    "        y_train=read_h5_file(resources_path, \"y_train\")\n",
    "        X_val=read_h5_file(resources_path, \"X_val\")\n",
    "        y_val=read_h5_file(resources_path, \"y_val\")"
   ]
  }
 ],
 "metadata": {
  "kernelspec": {
   "display_name": "Python 3 (ipykernel)",
   "language": "python",
   "name": "python3"
  },
  "language_info": {
   "codemirror_mode": {
    "name": "ipython",
    "version": 3
   },
   "file_extension": ".py",
   "mimetype": "text/x-python",
   "name": "python",
   "nbconvert_exporter": "python",
   "pygments_lexer": "ipython3",
   "version": "3.7.7"
  },
  "toc": {
   "base_numbering": 1,
   "nav_menu": {},
   "number_sections": true,
   "sideBar": true,
   "skip_h1_title": false,
   "title_cell": "Table of Contents",
   "title_sidebar": "Contents",
   "toc_cell": false,
   "toc_position": {},
   "toc_section_display": true,
   "toc_window_display": false
  }
 },
 "nbformat": 4,
 "nbformat_minor": 5
}
