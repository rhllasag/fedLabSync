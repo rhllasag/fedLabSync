{
 "cells": [
  {
   "cell_type": "markdown",
   "id": "7ec1b376",
   "metadata": {},
   "source": [
    " # Custom training with tf.distribute.Strategy"
   ]
  },
  {
   "cell_type": "code",
   "execution_count": 43,
   "id": "18c82de2",
   "metadata": {},
   "outputs": [
    {
     "name": "stdout",
     "output_type": "stream",
     "text": [
      "2.10.0\n"
     ]
    }
   ],
   "source": [
    "# Import TensorFlow\n",
    "import tensorflow as tf\n",
    "import h5py\n",
    "import math\n",
    "import pandas as pd\n",
    "# Helper libraries\n",
    "import numpy as np\n",
    "from numpy.lib.stride_tricks import as_strided\n",
    "from itertools import chain\n",
    "import os\n",
    "import random\n",
    "import pyarrow as pa\n",
    "import pyarrow.parquet as pq\n",
    "print(tf.__version__)\n",
    "from keras.models import Sequential,load_model\n",
    "from keras.layers import Dense, Dropout, Flatten\n",
    "from keras.layers import Conv1D, Conv2D, MaxPooling2D, Reshape\n",
    "from keras.optimizers import SGD\n",
    "from keras import optimizers\n",
    "from tensorflow.keras import layers\n",
    "from tensorflow import  keras\n",
    "import keras\n",
    "import keras.backend as K\n",
    "import matplotlib.pyplot as plt\n",
    "import matplotlib\n",
    "#tf.enable_eager_execution()"
   ]
  },
  {
   "cell_type": "markdown",
   "id": "0149cfdc",
   "metadata": {},
   "source": [
    "## Create a strategy to distribute the variables and the graph"
   ]
  },
  {
   "cell_type": "code",
   "execution_count": 44,
   "id": "3979257c",
   "metadata": {},
   "outputs": [
    {
     "name": "stdout",
     "output_type": "stream",
     "text": [
      "WARNING:tensorflow:There are non-GPU devices in `tf.distribute.Strategy`, not using nccl allreduce.\n",
      "INFO:tensorflow:Using MirroredStrategy with devices ('/job:localhost/replica:0/task:0/device:CPU:0',)\n"
     ]
    }
   ],
   "source": [
    "# If the list of devices is not specified in\n",
    "# `tf.distribute.MirroredStrategy` constructor, they will be auto-detected.\n",
    "strategy = tf.distribute.MirroredStrategy()"
   ]
  },
  {
   "cell_type": "code",
   "execution_count": 45,
   "id": "9503497c",
   "metadata": {
    "scrolled": true
   },
   "outputs": [
    {
     "name": "stdout",
     "output_type": "stream",
     "text": [
      "Number of devices: 1\n"
     ]
    }
   ],
   "source": [
    "print('Number of devices: {}'.format(strategy.num_replicas_in_sync))"
   ]
  },
  {
   "cell_type": "code",
   "execution_count": 255,
   "id": "a411bf43",
   "metadata": {},
   "outputs": [],
   "source": [
    "tf.compat.v1.enable_eager_execution()\n"
   ]
  },
  {
   "cell_type": "markdown",
   "id": "d67ad051",
   "metadata": {},
   "source": [
    "# Splitting data by Turbofan Unit\n",
    "\n",
    "## Defining IDS per node"
   ]
  },
  {
   "cell_type": "code",
   "execution_count": 132,
   "id": "2bfb1e16",
   "metadata": {},
   "outputs": [],
   "source": [
    "NUMBER_OF_DATASET = 4\n",
    "FEATURES_PERCENTAGE = 1\n",
    "VAL_PERCENTAGE = 0.85\n",
    "BATCH_SIZE = 128\n",
    "EPOCHS = 540\n",
    "LEARNING_RATE = 0.01\n",
    "OUT_PATH = \"data/cmapss/processed/\"\n",
    "train_df = pq.read_table(OUT_PATH + 'train_fd00' + str(NUMBER_OF_DATASET)+'.parquet').to_pandas()"
   ]
  },
  {
   "cell_type": "code",
   "execution_count": 133,
   "id": "258bf50c",
   "metadata": {},
   "outputs": [],
   "source": [
    "# Naming columns to training the model \n",
    "SENSOR_COLS = ['s2','s3','s4','s5','s6','s7', 's8','s9','s11','s12','s13','s14','s15','s17','s20','s21']\n",
    "SEQUENCE_COLS = ['RUL']\n",
    "TARGET_COLS = ['RUL']\n",
    "SEQUENCE_COLS.extend(SENSOR_COLS)\n"
   ]
  },
  {
   "cell_type": "code",
   "execution_count": 134,
   "id": "319c31ed",
   "metadata": {},
   "outputs": [],
   "source": [
    "SEED=10\n",
    "NODES=4\n",
    "\n",
    "random.seed(SEED)\n",
    "ENGINES = 248\n",
    "ids = [*range(1,ENGINES+1)]\n",
    "random.shuffle(ids)\n",
    "training_ids = ids[:int(len(ids)*VAL_PERCENTAGE)] \n",
    "validation_ids = ids[int(len(ids)*VAL_PERCENTAGE):int(len(ids))]\n",
    " \n",
    "#IDS_NODES_TRAIN=[training_ids[x:x+(len(training_ids)+1)//NODES] for x in range(0, len(training_ids)+1, (len(training_ids)+1)//NODES)]\n",
    "#IDS_NODES_TEST=[validation_ids[x:x+(len(validation_ids)+1)//NODES] for x in range(0, len(validation_ids)+1, (len(validation_ids)+1)//NODES)]\n",
    "        \n",
    "IDS_NODES_TRAIN=[ids[:int(len(ids)*VAL_PERCENTAGE)],ids[:int(len(ids)*VAL_PERCENTAGE)],ids[:int(len(ids)*VAL_PERCENTAGE)],ids[:int(len(ids)*VAL_PERCENTAGE)]]\n",
    "IDS_NODES_TEST=[ids[int(len(ids)*VAL_PERCENTAGE):int(len(ids))],ids[int(len(ids)*VAL_PERCENTAGE):int(len(ids))],ids[int(len(ids)*VAL_PERCENTAGE):int(len(ids))],ids[int(len(ids)*VAL_PERCENTAGE):int(len(ids))]]"
   ]
  },
  {
   "cell_type": "markdown",
   "id": "705bdd9e",
   "metadata": {},
   "source": [
    "## Split data and send Labels to Server"
   ]
  },
  {
   "cell_type": "code",
   "execution_count": 135,
   "id": "86e2d689",
   "metadata": {},
   "outputs": [],
   "source": [
    "M_LABELS=[*range(0,NODES)]\n",
    "MAX_DATASET_SIZE=0\n",
    "\n",
    "for node in range(0,NODES):\n",
    "    data_node = IDS_NODES_TRAIN[node]\n",
    "    #random.shuffle(SEQUENCE_COLS)\n",
    "    sequence_cols_ = SEQUENCE_COLS[:int(len(SEQUENCE_COLS)*FEATURES_PERCENTAGE)]\n",
    "                \n",
    "    for x in range(len(data_node)):\n",
    "        data_trajectory = train_df.loc[train_df['id'] == data_node[x]]\n",
    "        # Get X and Y data\n",
    "        if x == 0:\n",
    "            _train=data_trajectory[sequence_cols_]\n",
    "        if x != 0:\n",
    "            _train=_train.append(data_trajectory[sequence_cols_],ignore_index=True)\n",
    "        if x == len(data_node)-1:\n",
    "            _train=_train.sample(frac=1, random_state=SEED).reset_index(drop=True)\n",
    "            X_train=_train[SENSOR_COLS]\n",
    "            y_train=_train[TARGET_COLS]\n",
    "            M_LABELS[node]=np.round(y_train.to_numpy(), 3).tolist()\n",
    "            if (MAX_DATASET_SIZE<y_train.to_numpy().size):\n",
    "                MAX_DATASET_SIZE=y_train.to_numpy().size"
   ]
  },
  {
   "cell_type": "code",
   "execution_count": 136,
   "id": "a81ad75e",
   "metadata": {},
   "outputs": [
    {
     "name": "stdout",
     "output_type": "stream",
     "text": [
      "(51641, 4)\n"
     ]
    }
   ],
   "source": [
    "M=np.empty((MAX_DATASET_SIZE,NODES))\n",
    "print(M.shape)\n",
    "M[:] = np.nan\n",
    "for x in range(0,NODES):\n",
    "    M[:len(M_LABELS[x]),x]=list(chain.from_iterable(M_LABELS[x]))"
   ]
  },
  {
   "cell_type": "markdown",
   "id": "ca47bedb",
   "metadata": {},
   "source": [
    "# Calculaling Label Matrix for first Lab (node)"
   ]
  },
  {
   "cell_type": "code",
   "execution_count": 137,
   "id": "04160444",
   "metadata": {},
   "outputs": [],
   "source": [
    "import operator\n",
    "def labelSynchronization(M, localLab):\n",
    "    numWorkers = len(list(zip(*M)))\n",
    "    ID=list(np.unique(M[:,0]))\n",
    "    synchronizedLabels=np.zeros(M.shape,dtype=int)\n",
    "    synchronizedLabels[:,localLab]=range(1,len(M)+1);\n",
    "    if(numWorkers>1):\n",
    "        labelsAndCounters=np.zeros((len(ID),numWorkers))\n",
    "        for worker in range(0,numWorkers):\n",
    "            for _id in range(0,len(ID)):\n",
    "                labelsAndCounters[_id,worker]=operator.countOf(M[:,worker].tolist(),ID[_id])\n",
    "        for worker in range(0,numWorkers):\n",
    "            if worker!=localLab:\n",
    "                counterPerLabel=np.zeros((len(ID),numWorkers), dtype=int)\n",
    "                for _id in range(0, len(ID)):\n",
    "                    element=np.where(M[:, worker]== ID[_id])\n",
    "                    for row in range(0, len(M)):\n",
    "                        if (M[row,localLab]== ID[_id]):\n",
    "                            synchronizedLabels[row,worker]=(list(element)[0])[counterPerLabel[_id,numWorkers-1]]+1\n",
    "                            counterPerLabel[_id,numWorkers-1] += 1\n",
    "                            if counterPerLabel[_id,numWorkers-1]>len(element):\n",
    "                                counterPerLabel[_id,numWorkers-1]=1\n",
    "    return synchronizedLabels\n",
    "\n",
    "\n",
    "SYNCHRONIZED_LABELS=labelSynchronization(M, 0)-1"
   ]
  },
  {
   "cell_type": "code",
   "execution_count": 138,
   "id": "cdfbf766",
   "metadata": {},
   "outputs": [
    {
     "data": {
      "text/plain": [
       "array([[    0,     0,     0,     0],\n",
       "       [    1,     1,     1,     1],\n",
       "       [    2,     2,     2,     2],\n",
       "       ...,\n",
       "       [51638,     1,     1,     1],\n",
       "       [51639,  1256,  1256,  1256],\n",
       "       [51640,     1,     1,     1]])"
      ]
     },
     "execution_count": 138,
     "metadata": {},
     "output_type": "execute_result"
    }
   ],
   "source": [
    "SYNCHRONIZED_LABELS"
   ]
  },
  {
   "cell_type": "markdown",
   "id": "2ac82853",
   "metadata": {},
   "source": [
    "## Setup input pipeline"
   ]
  },
  {
   "cell_type": "code",
   "execution_count": 139,
   "id": "157702b5",
   "metadata": {},
   "outputs": [],
   "source": [
    "def read_h5_file(resources_path, name):\n",
    "    # Read numpy array \n",
    "    hf = h5py.File(resources_path+name+\"-centralized.h5\", 'r')\n",
    "    return np.array(hf[name][:])"
   ]
  },
  {
   "cell_type": "code",
   "execution_count": 140,
   "id": "30fd3b68",
   "metadata": {},
   "outputs": [],
   "source": [
    "nodes = [0,1,2,3] \n",
    "model = \"mlp\""
   ]
  },
  {
   "cell_type": "code",
   "execution_count": 141,
   "id": "cee5c429",
   "metadata": {},
   "outputs": [],
   "source": [
    "def batch_data(test, batch_size):\n",
    "    m,n = test.shape\n",
    "    S = test.itemsize\n",
    "    if not batch_size:\n",
    "        batch_size = m\n",
    "    count_batches = m//batch_size\n",
    "    # Batches which can be covered fully\n",
    "    test_batches = as_strided(test, shape=(count_batches, batch_size, n), strides=(batch_size*n*S,n*S,S)).copy()\n",
    "    covered = count_batches*batch_size\n",
    "    if covered < m:\n",
    "        rest = test[covered:,:]\n",
    "        rm, rn = rest.shape\n",
    "        mismatch = batch_size - rm\n",
    "        last_batch = np.vstack((rest,np.zeros((mismatch,rn)))).reshape(1,-1,n)\n",
    "        return np.vstack((test_batches,last_batch))\n",
    "    return test_batches"
   ]
  },
  {
   "cell_type": "code",
   "execution_count": 142,
   "id": "fe08d240",
   "metadata": {},
   "outputs": [],
   "source": [
    "def fn_data_partition(df,IDS_NODES,test):\n",
    "    distributedData=[]\n",
    "    for replica in range(0, NODES):\n",
    "        DATA_REPLICA_ID = []\n",
    "        for data_node in IDS_NODES:\n",
    "            routes_ = {}\n",
    "            random.shuffle(SEQUENCE_COLS)\n",
    "            sequence_cols_ = SEQUENCE_COLS[:int(len(SEQUENCE_COLS)*FEATURES_PERCENTAGE)]\n",
    "            _ids = ids[:int(len(data_node))] \n",
    "            for x in range(len(_ids)):\n",
    "                data_trajectory = df.loc[df['id'] == _ids[x]]\n",
    "                # Get X and Y data\n",
    "                if x == 0:\n",
    "                    _data=data_trajectory[SEQUENCE_COLS] \n",
    "                if x != 0:\n",
    "                    _data=_data.append(data_trajectory[SEQUENCE_COLS],ignore_index=True)\n",
    "                if x == len(_ids)-1:\n",
    "                    _data=_data.sample(frac=1, random_state=SEED).reset_index(drop=True)\n",
    "        X_=_data[SENSOR_COLS].to_numpy()\n",
    "        y_=_data[TARGET_COLS].to_numpy()\n",
    "        if (test==False):\n",
    "            X_=X_[SYNCHRONIZED_LABELS[:,replica]][:,:]\n",
    "            y_=y_[SYNCHRONIZED_LABELS[:,replica]][:,:]\n",
    "        \n",
    "        X_=batch_data(X_,BATCH_SIZE)\n",
    "        y_=batch_data(y_,BATCH_SIZE)\n",
    "        for i in range(0,len(y_)):\n",
    "            DATA_REPLICA_ID.append((tf.convert_to_tensor(X_[i], dtype=tf.float32),tf.convert_to_tensor(y_[i], dtype=tf.float32)))\n",
    "        distributedData.append(DATA_REPLICA_ID)\n",
    "    return distributedData"
   ]
  },
  {
   "cell_type": "code",
   "execution_count": 143,
   "id": "68b0b9f2",
   "metadata": {},
   "outputs": [],
   "source": [
    "train_df = pq.read_table(OUT_PATH + 'train_fd00' + str(NUMBER_OF_DATASET)+'.parquet').to_pandas()\n",
    "distributedDataTrain = fn_data_partition(train_df,IDS_NODES_TRAIN, False)\n",
    "distributedDataTest = fn_data_partition(train_df,IDS_NODES_TEST, True)"
   ]
  },
  {
   "cell_type": "code",
   "execution_count": 144,
   "id": "c089aa61",
   "metadata": {},
   "outputs": [],
   "source": [
    "def value_fn_train(ctx):\n",
    "    return distributedDataTrain[ctx.replica_id_in_sync_group]\n",
    "def value_fn_test(ctx):\n",
    "    return distributedDataTrain[ctx.replica_id_in_sync_group]"
   ]
  },
  {
   "cell_type": "code",
   "execution_count": 145,
   "id": "705ee869",
   "metadata": {},
   "outputs": [],
   "source": [
    "distributed_values_train = strategy.experimental_distribute_values_from_function(value_fn_train)\n",
    "distributed_values_test = strategy.experimental_distribute_values_from_function(value_fn_test)\n",
    "\n",
    "local_result_train = strategy.experimental_local_results(distributed_values_train)[0]\n",
    "local_result_test = strategy.experimental_local_results(distributed_values_test)[0]"
   ]
  },
  {
   "cell_type": "markdown",
   "id": "970fe01f",
   "metadata": {},
   "source": [
    "# Create Model"
   ]
  },
  {
   "cell_type": "code",
   "execution_count": 146,
   "id": "cfd5a70b",
   "metadata": {},
   "outputs": [],
   "source": [
    " def create_model_mlp(input_signals):\n",
    "    model = Sequential()\n",
    "    model.add(Dense(10, activation=\"sigmoid\", input_shape=(input_signals,)))\n",
    "    model.add(Dense(1, activation='relu'))\n",
    "    #model.compile(loss=rmse,optimizer=optimizer,metrics=['mae','mse',rmse])\n",
    "    return model"
   ]
  },
  {
   "cell_type": "code",
   "execution_count": 147,
   "id": "a0e8e851",
   "metadata": {},
   "outputs": [],
   "source": [
    "# Create a checkpoint directory to store the checkpoints.\n",
    "checkpoint_dir = './training_checkpoints'\n",
    "checkpoint_prefix = os.path.join(checkpoint_dir, \"ckpt\")"
   ]
  },
  {
   "cell_type": "markdown",
   "id": "63ae7e76",
   "metadata": {},
   "source": [
    "## Define the loss function\n",
    "\n",
    "Recall that the loss function consists of one or two parts:\n",
    "\n",
    "  * The **prediction loss** measures how far off the model's predictions are from the training labels for a batch of training examples. It is computed for each labeled example and then reduced across the batch by computing the average value.\n",
    "  * Optionally, **regularization loss** terms can be added to the prediction loss, to steer the model away from overfitting the training data. A common choice is L2 regularization, which adds a small fixed multiple of the sum of squares of all model weights, independent of the number of examples. The model above uses L2 regularization to demonstrate its handling in the training loop below.\n",
    "\n",
    "For training on a single machine with a single GPU/CPU, this works as follows:\n",
    "\n",
    "  * The prediction loss is computed for each example in the batch, summed across the batch, and then divided by the batch size.\n",
    "  * The regularization loss is added to the prediction loss.\n",
    "  * The gradient of the total loss is computed w.r.t. each model weight, and the optimizer updates each model weight from the corresponding gradient.\n",
    "\n",
    "With `tf.distribute.Strategy`, the input batch is split between replicas.\n",
    "For example, let's say you have 4 GPUs, each with one replica of the model. One batch of 256 input examples is distributed evenly across the 4 replicas, so each replica gets a batch of size 64: We have `256 = 4*64`, or generally `GLOBAL_BATCH_SIZE = num_replicas_in_sync * BATCH_SIZE_PER_REPLICA`.\n",
    "\n",
    "Each replica computes the loss from the training examples it gets and computes the gradients of the loss w.r.t. each model weight. The optimizer takes care that these **gradients are summed up across replicas** before using them to update the copies of the model weights on each replica.\n",
    "\n",
    "*So, how should the loss be calculated when using a `tf.distribute.Strategy`?*\n",
    "\n",
    "  * Each replica computes the prediction loss for all examples distributed to it, sums up the results and divides them by `num_replicas_in_sync * BATCH_SIZE_PER_REPLICA`, or equivently, `GLOBAL_BATCH_SIZE`.\n",
    "  * Each replica compues the regularization loss(es) and divides them by\n",
    "  `num_replicas_in_sync`.\n",
    "\n",
    "Compared to non-distributed training, all per-replica loss terms are scaled down by a factor of `1/num_replicas_in_sync`. On the other hand, all loss terms -- or rather, their gradients -- are summed across that number of replicas before the optimizer applies them. In effect, the optimizer on each replica uses the same gradients as if a non-distributed computation with `GLOBAL_BATCH_SIZE` had happened. This is consistent with the distributed and undistributed behavior of Keras `Model.fit`. See the [Distributed training with Keras](./keras.ipynb) tutorial on how a larger gloabl batch size enables to scale up the learning rate."
   ]
  },
  {
   "cell_type": "code",
   "execution_count": 295,
   "id": "a029b442",
   "metadata": {},
   "outputs": [],
   "source": [
    "with strategy.scope():\n",
    "    def compute_loss_batch(labels, predictions, model_losses):\n",
    "        per_example_loss = (labels - predictions)**2  # Sample error\n",
    "        loss = tf.math.sqrt(tf.nn.compute_average_loss(per_example_loss)) # Batch Error\n",
    "        return loss"
   ]
  },
  {
   "cell_type": "code",
   "execution_count": 296,
   "id": "2e1cd8e3",
   "metadata": {},
   "outputs": [],
   "source": [
    "with strategy.scope():\n",
    "    test_mae = tf.keras.metrics.MeanAbsoluteError()\n",
    "    train_rmse = tf.keras.metrics.RootMeanSquaredError()\n",
    "    test_rmse = tf.keras.metrics.RootMeanSquaredError()"
   ]
  },
  {
   "cell_type": "code",
   "execution_count": 297,
   "id": "e3a70726",
   "metadata": {},
   "outputs": [],
   "source": [
    "# A model, an optimizer, and a checkpoint must be created under `strategy.scope`.\n",
    "with strategy.scope():\n",
    "    model = create_model_mlp(16)\n",
    "    optimizer = SGD(lr=LEARNING_RATE)\n",
    "    checkpoint = tf.train.Checkpoint(optimizer=optimizer, model=model)"
   ]
  },
  {
   "cell_type": "code",
   "execution_count": 304,
   "id": "f738b761",
   "metadata": {},
   "outputs": [],
   "source": [
    "def train_step_batch(inputs):\n",
    "    input_signals, labels = inputs\n",
    "    with tf.GradientTape() as tape:\n",
    "        predictions = model(input_signals, training=True)\n",
    "        loss = compute_loss_batch(labels, predictions, model.losses) # Batch Error\n",
    "    gradients = tape.gradient(loss, model.trainable_variables)\n",
    "    optimizer.apply_gradients(zip(gradients, model.trainable_variables))\n",
    "    train_rmse.update_state(labels, predictions)\n",
    "    return loss\n",
    "def train_step_sample(inputs):\n",
    "    input_signals, labels = inputs\n",
    "    with tf.GradientTape() as tape:\n",
    "        predictions = model(input_signals, training=True)\n",
    "    return predictions\n",
    "\n",
    "def compute_loss_fedLabSync(inputs, collaborativePredictions):\n",
    "    input_signals, labels = inputs\n",
    "    with tf.GradientTape() as tape:\n",
    "        predictions = model(input_signals, training=True)\n",
    "        loss = compute_loss_batch(labels, (collaborativePredictions+predictions)/2, model.losses) # Batch Error\n",
    "    gradients = tape.gradient(loss, model.trainable_variables)\n",
    "    optimizer.apply_gradients(zip(gradients, model.trainable_variables))\n",
    "    train_rmse.update_state(labels, (collaborativePredictions+predictions)/2)\n",
    "    return loss\n",
    "    \n",
    "def test_step(inputs):\n",
    "    input_signals, labels = inputs\n",
    "    predictions = model(input_signals, training=False)\n",
    "    \n",
    "    t_loss = tf.math.abs(labels-predictions)\n",
    "    test_mae.update_state(labels, predictions)\n",
    "    test_rmse.update_state(labels, predictions)"
   ]
  },
  {
   "cell_type": "code",
   "execution_count": 307,
   "id": "1e176698",
   "metadata": {},
   "outputs": [
    {
     "name": "stdout",
     "output_type": "stream",
     "text": [
      "Epoch 1, Train_RMSE: 0.8186975121498108, Test MAE: 0.7527980804443359, Test_RMSE: 0.8194758296012878\n",
      "Epoch 2, Train_RMSE: 0.8194671869277954, Test MAE: 0.752777099609375, Test_RMSE: 0.8194565176963806\n",
      "Epoch 3, Train_RMSE: 0.8194433450698853, Test MAE: 0.7527331113815308, Test_RMSE: 0.8194270730018616\n",
      "Epoch 4, Train_RMSE: 0.819406270980835, Test MAE: 0.7526770234107971, Test_RMSE: 0.8193786144256592\n",
      "Epoch 5, Train_RMSE: 0.8193354606628418, Test MAE: 0.7525502443313599, Test_RMSE: 0.8192750215530396\n",
      "Epoch 6, Train_RMSE: 0.8191603422164917, Test MAE: 0.7520992755889893, Test_RMSE: 0.8189826607704163\n",
      "Epoch 7, Train_RMSE: 0.7697824239730835, Test MAE: 0.3625635504722595, Test_RMSE: 0.43105700612068176\n"
     ]
    },
    {
     "ename": "KeyboardInterrupt",
     "evalue": "",
     "output_type": "error",
     "traceback": [
      "\u001b[1;31m---------------------------------------------------------------------------\u001b[0m",
      "\u001b[1;31mKeyboardInterrupt\u001b[0m                         Traceback (most recent call last)",
      "\u001b[1;32m~\\AppData\\Local\\Temp\\ipykernel_2372\\2954451917.py\u001b[0m in \u001b[0;36m<module>\u001b[1;34m\u001b[0m\n\u001b[0;32m     22\u001b[0m         \u001b[1;31m#colaboratePrediction = collaborative_predictions(x)\u001b[0m\u001b[1;33m\u001b[0m\u001b[1;33m\u001b[0m\u001b[1;33m\u001b[0m\u001b[0m\n\u001b[0;32m     23\u001b[0m         \u001b[1;31m#total_loss += local_collaborative_loss(colaboratePrediction, x)\u001b[0m\u001b[1;33m\u001b[0m\u001b[1;33m\u001b[0m\u001b[1;33m\u001b[0m\u001b[0m\n\u001b[1;32m---> 24\u001b[1;33m         \u001b[0mtotal_loss\u001b[0m \u001b[1;33m+=\u001b[0m \u001b[0mdistributed_train_step_batch\u001b[0m\u001b[1;33m(\u001b[0m\u001b[0mx\u001b[0m\u001b[1;33m)\u001b[0m\u001b[1;33m\u001b[0m\u001b[1;33m\u001b[0m\u001b[0m\n\u001b[0m\u001b[0;32m     25\u001b[0m         \u001b[0mnum_batches\u001b[0m \u001b[1;33m+=\u001b[0m \u001b[1;36m1\u001b[0m\u001b[1;33m\u001b[0m\u001b[1;33m\u001b[0m\u001b[0m\n\u001b[0;32m     26\u001b[0m     \u001b[0mtrain_loss\u001b[0m \u001b[1;33m=\u001b[0m \u001b[0mtotal_loss\u001b[0m \u001b[1;33m/\u001b[0m \u001b[0mnum_batches\u001b[0m\u001b[1;33m\u001b[0m\u001b[1;33m\u001b[0m\u001b[0m\n",
      "\u001b[1;32m~\\.conda\\envs\\fedLabSync\\lib\\site-packages\\tensorflow\\python\\util\\traceback_utils.py\u001b[0m in \u001b[0;36merror_handler\u001b[1;34m(*args, **kwargs)\u001b[0m\n\u001b[0;32m    148\u001b[0m     \u001b[0mfiltered_tb\u001b[0m \u001b[1;33m=\u001b[0m \u001b[1;32mNone\u001b[0m\u001b[1;33m\u001b[0m\u001b[1;33m\u001b[0m\u001b[0m\n\u001b[0;32m    149\u001b[0m     \u001b[1;32mtry\u001b[0m\u001b[1;33m:\u001b[0m\u001b[1;33m\u001b[0m\u001b[1;33m\u001b[0m\u001b[0m\n\u001b[1;32m--> 150\u001b[1;33m       \u001b[1;32mreturn\u001b[0m \u001b[0mfn\u001b[0m\u001b[1;33m(\u001b[0m\u001b[1;33m*\u001b[0m\u001b[0margs\u001b[0m\u001b[1;33m,\u001b[0m \u001b[1;33m**\u001b[0m\u001b[0mkwargs\u001b[0m\u001b[1;33m)\u001b[0m\u001b[1;33m\u001b[0m\u001b[1;33m\u001b[0m\u001b[0m\n\u001b[0m\u001b[0;32m    151\u001b[0m     \u001b[1;32mexcept\u001b[0m \u001b[0mException\u001b[0m \u001b[1;32mas\u001b[0m \u001b[0me\u001b[0m\u001b[1;33m:\u001b[0m\u001b[1;33m\u001b[0m\u001b[1;33m\u001b[0m\u001b[0m\n\u001b[0;32m    152\u001b[0m       \u001b[0mfiltered_tb\u001b[0m \u001b[1;33m=\u001b[0m \u001b[0m_process_traceback_frames\u001b[0m\u001b[1;33m(\u001b[0m\u001b[0me\u001b[0m\u001b[1;33m.\u001b[0m\u001b[0m__traceback__\u001b[0m\u001b[1;33m)\u001b[0m\u001b[1;33m\u001b[0m\u001b[1;33m\u001b[0m\u001b[0m\n",
      "\u001b[1;32m~\\.conda\\envs\\fedLabSync\\lib\\site-packages\\tensorflow\\python\\eager\\def_function.py\u001b[0m in \u001b[0;36m__call__\u001b[1;34m(self, *args, **kwds)\u001b[0m\n\u001b[0;32m    913\u001b[0m \u001b[1;33m\u001b[0m\u001b[0m\n\u001b[0;32m    914\u001b[0m       \u001b[1;32mwith\u001b[0m \u001b[0mOptionalXlaContext\u001b[0m\u001b[1;33m(\u001b[0m\u001b[0mself\u001b[0m\u001b[1;33m.\u001b[0m\u001b[0m_jit_compile\u001b[0m\u001b[1;33m)\u001b[0m\u001b[1;33m:\u001b[0m\u001b[1;33m\u001b[0m\u001b[1;33m\u001b[0m\u001b[0m\n\u001b[1;32m--> 915\u001b[1;33m         \u001b[0mresult\u001b[0m \u001b[1;33m=\u001b[0m \u001b[0mself\u001b[0m\u001b[1;33m.\u001b[0m\u001b[0m_call\u001b[0m\u001b[1;33m(\u001b[0m\u001b[1;33m*\u001b[0m\u001b[0margs\u001b[0m\u001b[1;33m,\u001b[0m \u001b[1;33m**\u001b[0m\u001b[0mkwds\u001b[0m\u001b[1;33m)\u001b[0m\u001b[1;33m\u001b[0m\u001b[1;33m\u001b[0m\u001b[0m\n\u001b[0m\u001b[0;32m    916\u001b[0m \u001b[1;33m\u001b[0m\u001b[0m\n\u001b[0;32m    917\u001b[0m       \u001b[0mnew_tracing_count\u001b[0m \u001b[1;33m=\u001b[0m \u001b[0mself\u001b[0m\u001b[1;33m.\u001b[0m\u001b[0mexperimental_get_tracing_count\u001b[0m\u001b[1;33m(\u001b[0m\u001b[1;33m)\u001b[0m\u001b[1;33m\u001b[0m\u001b[1;33m\u001b[0m\u001b[0m\n",
      "\u001b[1;32m~\\.conda\\envs\\fedLabSync\\lib\\site-packages\\tensorflow\\python\\eager\\def_function.py\u001b[0m in \u001b[0;36m_call\u001b[1;34m(self, *args, **kwds)\u001b[0m\n\u001b[0;32m    952\u001b[0m       \u001b[1;31m# In this case we have not created variables on the first call. So we can\u001b[0m\u001b[1;33m\u001b[0m\u001b[1;33m\u001b[0m\u001b[1;33m\u001b[0m\u001b[0m\n\u001b[0;32m    953\u001b[0m       \u001b[1;31m# run the first trace but we should fail if variables are created.\u001b[0m\u001b[1;33m\u001b[0m\u001b[1;33m\u001b[0m\u001b[1;33m\u001b[0m\u001b[0m\n\u001b[1;32m--> 954\u001b[1;33m       \u001b[0mresults\u001b[0m \u001b[1;33m=\u001b[0m \u001b[0mself\u001b[0m\u001b[1;33m.\u001b[0m\u001b[0m_stateful_fn\u001b[0m\u001b[1;33m(\u001b[0m\u001b[1;33m*\u001b[0m\u001b[0margs\u001b[0m\u001b[1;33m,\u001b[0m \u001b[1;33m**\u001b[0m\u001b[0mkwds\u001b[0m\u001b[1;33m)\u001b[0m\u001b[1;33m\u001b[0m\u001b[1;33m\u001b[0m\u001b[0m\n\u001b[0m\u001b[0;32m    955\u001b[0m       \u001b[1;32mif\u001b[0m \u001b[0mself\u001b[0m\u001b[1;33m.\u001b[0m\u001b[0m_created_variables\u001b[0m \u001b[1;32mand\u001b[0m \u001b[1;32mnot\u001b[0m \u001b[0mALLOW_DYNAMIC_VARIABLE_CREATION\u001b[0m\u001b[1;33m:\u001b[0m\u001b[1;33m\u001b[0m\u001b[1;33m\u001b[0m\u001b[0m\n\u001b[0;32m    956\u001b[0m         raise ValueError(\"Creating variables on a non-first call to a function\"\n",
      "\u001b[1;32m~\\.conda\\envs\\fedLabSync\\lib\\site-packages\\tensorflow\\python\\eager\\function.py\u001b[0m in \u001b[0;36m__call__\u001b[1;34m(self, *args, **kwargs)\u001b[0m\n\u001b[0;32m   2495\u001b[0m        filtered_flat_args) = self._maybe_define_function(args, kwargs)\n\u001b[0;32m   2496\u001b[0m     return graph_function._call_flat(\n\u001b[1;32m-> 2497\u001b[1;33m         filtered_flat_args, captured_inputs=graph_function.captured_inputs)  # pylint: disable=protected-access\n\u001b[0m\u001b[0;32m   2498\u001b[0m \u001b[1;33m\u001b[0m\u001b[0m\n\u001b[0;32m   2499\u001b[0m   \u001b[1;33m@\u001b[0m\u001b[0mproperty\u001b[0m\u001b[1;33m\u001b[0m\u001b[1;33m\u001b[0m\u001b[0m\n",
      "\u001b[1;32m~\\.conda\\envs\\fedLabSync\\lib\\site-packages\\tensorflow\\python\\eager\\function.py\u001b[0m in \u001b[0;36m_call_flat\u001b[1;34m(self, args, captured_inputs, cancellation_manager)\u001b[0m\n\u001b[0;32m   1861\u001b[0m       \u001b[1;31m# No tape is watching; skip to running the function.\u001b[0m\u001b[1;33m\u001b[0m\u001b[1;33m\u001b[0m\u001b[1;33m\u001b[0m\u001b[0m\n\u001b[0;32m   1862\u001b[0m       return self._build_call_outputs(self._inference_function.call(\n\u001b[1;32m-> 1863\u001b[1;33m           ctx, args, cancellation_manager=cancellation_manager))\n\u001b[0m\u001b[0;32m   1864\u001b[0m     forward_backward = self._select_forward_and_backward_functions(\n\u001b[0;32m   1865\u001b[0m         \u001b[0margs\u001b[0m\u001b[1;33m,\u001b[0m\u001b[1;33m\u001b[0m\u001b[1;33m\u001b[0m\u001b[0m\n",
      "\u001b[1;32m~\\.conda\\envs\\fedLabSync\\lib\\site-packages\\tensorflow\\python\\eager\\function.py\u001b[0m in \u001b[0;36mcall\u001b[1;34m(self, ctx, args, cancellation_manager)\u001b[0m\n\u001b[0;32m    502\u001b[0m               \u001b[0minputs\u001b[0m\u001b[1;33m=\u001b[0m\u001b[0margs\u001b[0m\u001b[1;33m,\u001b[0m\u001b[1;33m\u001b[0m\u001b[1;33m\u001b[0m\u001b[0m\n\u001b[0;32m    503\u001b[0m               \u001b[0mattrs\u001b[0m\u001b[1;33m=\u001b[0m\u001b[0mattrs\u001b[0m\u001b[1;33m,\u001b[0m\u001b[1;33m\u001b[0m\u001b[1;33m\u001b[0m\u001b[0m\n\u001b[1;32m--> 504\u001b[1;33m               ctx=ctx)\n\u001b[0m\u001b[0;32m    505\u001b[0m         \u001b[1;32melse\u001b[0m\u001b[1;33m:\u001b[0m\u001b[1;33m\u001b[0m\u001b[1;33m\u001b[0m\u001b[0m\n\u001b[0;32m    506\u001b[0m           outputs = execute.execute_with_cancellation(\n",
      "\u001b[1;32m~\\.conda\\envs\\fedLabSync\\lib\\site-packages\\tensorflow\\python\\eager\\execute.py\u001b[0m in \u001b[0;36mquick_execute\u001b[1;34m(op_name, num_outputs, inputs, attrs, ctx, name)\u001b[0m\n\u001b[0;32m     53\u001b[0m     \u001b[0mctx\u001b[0m\u001b[1;33m.\u001b[0m\u001b[0mensure_initialized\u001b[0m\u001b[1;33m(\u001b[0m\u001b[1;33m)\u001b[0m\u001b[1;33m\u001b[0m\u001b[1;33m\u001b[0m\u001b[0m\n\u001b[0;32m     54\u001b[0m     tensors = pywrap_tfe.TFE_Py_Execute(ctx._handle, device_name, op_name,\n\u001b[1;32m---> 55\u001b[1;33m                                         inputs, attrs, num_outputs)\n\u001b[0m\u001b[0;32m     56\u001b[0m   \u001b[1;32mexcept\u001b[0m \u001b[0mcore\u001b[0m\u001b[1;33m.\u001b[0m\u001b[0m_NotOkStatusException\u001b[0m \u001b[1;32mas\u001b[0m \u001b[0me\u001b[0m\u001b[1;33m:\u001b[0m\u001b[1;33m\u001b[0m\u001b[1;33m\u001b[0m\u001b[0m\n\u001b[0;32m     57\u001b[0m     \u001b[1;32mif\u001b[0m \u001b[0mname\u001b[0m \u001b[1;32mis\u001b[0m \u001b[1;32mnot\u001b[0m \u001b[1;32mNone\u001b[0m\u001b[1;33m:\u001b[0m\u001b[1;33m\u001b[0m\u001b[1;33m\u001b[0m\u001b[0m\n",
      "\u001b[1;31mKeyboardInterrupt\u001b[0m: "
     ]
    }
   ],
   "source": [
    "# with the distributed input.\n",
    "@tf.function\n",
    "def distributed_train_step_batch(dataset_inputs):\n",
    "    per_replica_losses = strategy.run(train_step_batch, args=(dataset_inputs,)) \n",
    "    return strategy.reduce(tf.distribute.ReduceOp.SUM, per_replica_losses,\n",
    "                         axis=None)\n",
    "@tf.function\n",
    "def collaborative_predictions(dataset_inputs):\n",
    "    per_replica_predictions= strategy.run(train_step_sample, args=(dataset_inputs,))\n",
    "    return strategy.reduce(tf.distribute.ReduceOp.MEAN, per_replica_predictions,  \n",
    "                         axis=None)\n",
    "@tf.function\n",
    "def local_collaborative_loss(collaborative_predictions, dataset_inputs):\n",
    "    return strategy.run(compute_loss_fedLabSync, args=(dataset_inputs, collaborative_predictions,))\n",
    "\n",
    "\n",
    "for epoch in range(EPOCHS):\n",
    "    # TRAIN LOOP\n",
    "    total_loss = 0.0\n",
    "    #num_batches = 0\n",
    "    for x in local_result_train:\n",
    "        colaboratePrediction = collaborative_predictions(x)\n",
    "        total_loss += local_collaborative_loss(colaboratePrediction, x)\n",
    "        #total_loss += distributed_train_step_batch(x)\n",
    "        num_batches += 1\n",
    "    train_loss = total_loss / num_batches\n",
    "    \n",
    "    # TEST LOOP\n",
    "    for x in local_result_test:\n",
    "        distributed_test_step_batch(x)\n",
    "\n",
    "    if epoch % 2 == 0:\n",
    "        checkpoint.save(checkpoint_prefix)\n",
    "\n",
    "    template = (\"Epoch {}, Train_RMSE: {}, Test MAE: {}, \"\n",
    "              \"Test_RMSE: {}\")\n",
    "    print(template.format(epoch + 1, train_rmse.result(), test_mae.result(),\n",
    "                         test_rmse.result()))\n",
    "    test_mae.reset_states()\n",
    "    train_rmse.reset_states()\n",
    "    test_rmse.reset_states()"
   ]
  },
  {
   "cell_type": "markdown",
   "id": "973a644f",
   "metadata": {},
   "source": [
    "# Test"
   ]
  },
  {
   "cell_type": "code",
   "execution_count": 153,
   "id": "deab1364",
   "metadata": {},
   "outputs": [],
   "source": [
    "routes_test = {}\n",
    "test_df = pq.read_table(OUT_PATH + 'test_fd00' + str(NUMBER_OF_DATASET)+'.parquet').to_pandas()\n",
    "for unit_nr in test_df['id'].unique():\n",
    "    routes_test[unit_nr-1] = test_df.loc[test_df['id'] == unit_nr]\n",
    "RC=120"
   ]
  },
  {
   "cell_type": "code",
   "execution_count": 157,
   "id": "24e4fc0c",
   "metadata": {},
   "outputs": [],
   "source": [
    "TRAJECTORY=1"
   ]
  },
  {
   "cell_type": "code",
   "execution_count": 158,
   "id": "d6c14ba4",
   "metadata": {},
   "outputs": [
    {
     "name": "stdout",
     "output_type": "stream",
     "text": [
      "8/8 [==============================] - 0s 2ms/step\n",
      "5/5 [==============================] - 0s 2ms/step\n"
     ]
    },
    {
     "data": {
      "image/png": "[encoded data removed]",
      "text/plain": [
       "<Figure size 640x480 with 1 Axes>"
      ]
     },
     "metadata": {},
     "output_type": "display_data"
    },
    {
     "name": "stdout",
     "output_type": "stream",
     "text": [
      "5/5 [==============================] - 0s 2ms/step\n",
      "7/7 [==============================] - 0s 2ms/step\n",
      "2/2 [==============================] - 0s 3ms/step\n",
      "5/5 [==============================] - 0s 3ms/step\n",
      "2/2 [==============================] - 0s 3ms/step\n",
      "8/8 [==============================] - 0s 2ms/step\n",
      "9/9 [==============================] - 0s 2ms/step\n",
      "1/1 [==============================] - 0s 87ms/step\n",
      "3/3 [==============================] - 0s 2ms/step\n",
      "9/9 [==============================] - 0s 2ms/step\n",
      "8/8 [==============================] - 0s 2ms/step\n",
      "4/4 [==============================] - 0s 2ms/step\n",
      "6/6 [==============================] - 0s 2ms/step\n",
      "8/8 [==============================] - 0s 2ms/step\n",
      "11/11 [==============================] - 0s 2ms/step\n",
      "8/8 [==============================] - 0s 2ms/step\n",
      "1/1 [==============================] - 0s 80ms/step\n",
      "4/4 [==============================] - 0s 3ms/step\n",
      "7/7 [==============================] - 0s 2ms/step\n",
      "5/5 [==============================] - 0s 4ms/step\n",
      "6/6 [==============================] - 0s 2ms/step\n",
      "6/6 [==============================] - 0s 3ms/step\n",
      "16/16 [==============================] - 0s 2ms/step\n",
      "3/3 [==============================] - 0s 3ms/step\n",
      "5/5 [==============================] - 0s 2ms/step\n",
      "1/1 [==============================] - 0s 83ms/step\n",
      "7/7 [==============================] - 0s 2ms/step\n",
      "8/8 [==============================] - 0s 2ms/step\n",
      "5/5 [==============================] - 0s 3ms/step\n",
      "9/9 [==============================] - 0s 2ms/step\n",
      "4/4 [==============================] - 0s 3ms/step\n",
      "12/12 [==============================] - 0s 2ms/step\n",
      "9/9 [==============================] - 0s 3ms/step\n",
      "5/5 [==============================] - 0s 3ms/step\n",
      "11/11 [==============================] - 0s 2ms/step\n",
      "4/4 [==============================] - 0s 3ms/step\n",
      "7/7 [==============================] - 0s 2ms/step\n",
      "9/9 [==============================] - 0s 3ms/step\n",
      "13/13 [==============================] - 0s 2ms/step\n",
      "7/7 [==============================] - 0s 3ms/step\n",
      "4/4 [==============================] - 0s 2ms/step\n",
      "13/13 [==============================] - 0s 2ms/step\n",
      "3/3 [==============================] - 0s 3ms/step\n",
      "2/2 [==============================] - 0s 4ms/step\n",
      "7/7 [==============================] - 0s 2ms/step\n",
      "7/7 [==============================] - 0s 2ms/step\n",
      "9/9 [==============================] - 0s 2ms/step\n",
      "7/7 [==============================] - 0s 2ms/step\n",
      "5/5 [==============================] - 0s 2ms/step\n",
      "2/2 [==============================] - 0s 3ms/step\n",
      "3/3 [==============================] - 0s 3ms/step\n",
      "3/3 [==============================] - 0s 3ms/step\n",
      "4/4 [==============================] - 0s 2ms/step\n",
      "6/6 [==============================] - 0s 2ms/step\n",
      "4/4 [==============================] - 0s 3ms/step\n",
      "6/6 [==============================] - 0s 3ms/step\n",
      "2/2 [==============================] - 0s 4ms/step\n",
      "5/5 [==============================] - 0s 3ms/step\n",
      "13/13 [==============================] - 0s 2ms/step\n",
      "8/8 [==============================] - 0s 2ms/step\n",
      "5/5 [==============================] - 0s 2ms/step\n",
      "8/8 [==============================] - 0s 2ms/step\n",
      "6/6 [==============================] - 0s 2ms/step\n",
      "4/4 [==============================] - 0s 2ms/step\n",
      "5/5 [==============================] - 0s 2ms/step\n",
      "8/8 [==============================] - 0s 2ms/step\n",
      "6/6 [==============================] - 0s 3ms/step\n",
      "6/6 [==============================] - 0s 2ms/step\n",
      "10/10 [==============================] - 0s 3ms/step\n",
      "4/4 [==============================] - 0s 2ms/step\n",
      "5/5 [==============================] - 0s 2ms/step\n",
      "7/7 [==============================] - 0s 3ms/step\n",
      "7/7 [==============================] - 0s 2ms/step\n",
      "2/2 [==============================] - 0s 3ms/step\n",
      "4/4 [==============================] - 0s 3ms/step\n",
      "4/4 [==============================] - 0s 2ms/step\n",
      "6/6 [==============================] - 0s 3ms/step\n",
      "4/4 [==============================] - 0s 2ms/step\n",
      "2/2 [==============================] - 0s 3ms/step\n",
      "5/5 [==============================] - 0s 2ms/step\n",
      "9/9 [==============================] - 0s 2ms/step\n",
      "3/3 [==============================] - 0s 2ms/step\n",
      "6/6 [==============================] - 0s 3ms/step\n",
      "8/8 [==============================] - 0s 2ms/step\n",
      "6/6 [==============================] - 0s 3ms/step\n",
      "5/5 [==============================] - 0s 2ms/step\n",
      "9/9 [==============================] - 0s 2ms/step\n",
      "4/4 [==============================] - 0s 2ms/step\n",
      "5/5 [==============================] - 0s 3ms/step\n",
      "4/4 [==============================] - 0s 4ms/step\n",
      "7/7 [==============================] - 0s 2ms/step\n",
      "4/4 [==============================] - 0s 2ms/step\n",
      "4/4 [==============================] - 0s 2ms/step\n",
      "4/4 [==============================] - 0s 2ms/step\n",
      "2/2 [==============================] - 0s 4ms/step\n",
      "3/3 [==============================] - 0s 3ms/step\n",
      "8/8 [==============================] - 0s 2ms/step\n",
      "7/7 [==============================] - 0s 2ms/step\n",
      "6/6 [==============================] - 0s 2ms/step\n",
      "14/14 [==============================] - 0s 2ms/step\n",
      "5/5 [==============================] - 0s 2ms/step\n",
      "3/3 [==============================] - 0s 2ms/step\n",
      "11/11 [==============================] - 0s 3ms/step\n",
      "5/5 [==============================] - 0s 2ms/step\n",
      "4/4 [==============================] - 0s 3ms/step\n",
      "5/5 [==============================] - 0s 2ms/step\n",
      "3/3 [==============================] - 0s 4ms/step\n",
      "11/11 [==============================] - 0s 2ms/step\n",
      "11/11 [==============================] - 0s 2ms/step\n",
      "3/3 [==============================] - 0s 3ms/step\n",
      "5/5 [==============================] - 0s 2ms/step\n",
      "7/7 [==============================] - 0s 2ms/step\n",
      "3/3 [==============================] - 0s 3ms/step\n",
      "6/6 [==============================] - 0s 2ms/step\n",
      "4/4 [==============================] - 0s 3ms/step\n",
      "6/6 [==============================] - 0s 2ms/step\n",
      "8/8 [==============================] - 0s 2ms/step\n",
      "6/6 [==============================] - 0s 3ms/step\n",
      "7/7 [==============================] - 0s 2ms/step\n",
      "4/4 [==============================] - 0s 2ms/step\n",
      "8/8 [==============================] - 0s 2ms/step\n",
      "8/8 [==============================] - 0s 2ms/step\n",
      "1/1 [==============================] - 0s 90ms/step\n",
      "7/7 [==============================] - 0s 3ms/step\n",
      "4/4 [==============================] - 0s 3ms/step\n",
      "5/5 [==============================] - 0s 2ms/step\n",
      "10/10 [==============================] - 0s 2ms/step\n",
      "4/4 [==============================] - 0s 2ms/step\n",
      "7/7 [==============================] - 0s 3ms/step\n",
      "4/4 [==============================] - 0s 3ms/step\n",
      "3/3 [==============================] - 0s 2ms/step\n",
      "9/9 [==============================] - 0s 2ms/step\n",
      "14/14 [==============================] - 0s 2ms/step\n",
      "2/2 [==============================] - 0s 5ms/step\n",
      "10/10 [==============================] - 0s 2ms/step\n",
      "8/8 [==============================] - 0s 3ms/step\n",
      "3/3 [==============================] - 0s 3ms/step\n",
      "5/5 [==============================] - 0s 2ms/step\n",
      "1/1 [==============================] - 0s 84ms/step\n",
      "3/3 [==============================] - 0s 3ms/step\n",
      "11/11 [==============================] - 0s 3ms/step\n",
      "2/2 [==============================] - 0s 6ms/step\n",
      "4/4 [==============================] - 0s 2ms/step\n",
      "3/3 [==============================] - 0s 2ms/step\n",
      "4/4 [==============================] - 0s 2ms/step\n",
      "4/4 [==============================] - 0s 2ms/step\n",
      "10/10 [==============================] - 0s 3ms/step\n",
      "7/7 [==============================] - 0s 3ms/step\n",
      "9/9 [==============================] - 0s 2ms/step\n",
      "7/7 [==============================] - 0s 3ms/step\n",
      "5/5 [==============================] - 0s 2ms/step\n",
      "4/4 [==============================] - 0s 2ms/step\n",
      "6/6 [==============================] - 0s 2ms/step\n",
      "1/1 [==============================] - 0s 99ms/step\n",
      "5/5 [==============================] - 0s 2ms/step\n",
      "6/6 [==============================] - 0s 2ms/step\n",
      "5/5 [==============================] - 0s 3ms/step\n",
      "4/4 [==============================] - 0s 2ms/step\n",
      "9/9 [==============================] - 0s 2ms/step\n"
     ]
    },
    {
     "name": "stdout",
     "output_type": "stream",
     "text": [
      "4/4 [==============================] - 0s 2ms/step\n",
      "4/4 [==============================] - 0s 3ms/step\n",
      "1/1 [==============================] - 0s 77ms/step\n",
      "6/6 [==============================] - 0s 2ms/step\n",
      "2/2 [==============================] - 0s 3ms/step\n",
      "4/4 [==============================] - 0s 2ms/step\n",
      "3/3 [==============================] - 0s 5ms/step\n",
      "2/2 [==============================] - 0s 4ms/step\n",
      "2/2 [==============================] - 0s 3ms/step\n",
      "12/12 [==============================] - 0s 2ms/step\n",
      "5/5 [==============================] - 0s 2ms/step\n",
      "5/5 [==============================] - 0s 3ms/step\n",
      "5/5 [==============================] - 0s 2ms/step\n",
      "4/4 [==============================] - 0s 3ms/step\n",
      "6/6 [==============================] - 0s 2ms/step\n",
      "5/5 [==============================] - 0s 3ms/step\n",
      "9/9 [==============================] - 0s 2ms/step\n",
      "9/9 [==============================] - 0s 2ms/step\n",
      "12/12 [==============================] - 0s 2ms/step\n",
      "7/7 [==============================] - 0s 3ms/step\n",
      "4/4 [==============================] - 0s 2ms/step\n",
      "4/4 [==============================] - 0s 3ms/step\n",
      "5/5 [==============================] - 0s 3ms/step\n",
      "7/7 [==============================] - 0s 2ms/step\n",
      "2/2 [==============================] - 0s 4ms/step\n",
      "4/4 [==============================] - 0s 3ms/step\n",
      "5/5 [==============================] - 0s 3ms/step\n",
      "4/4 [==============================] - 0s 2ms/step\n",
      "7/7 [==============================] - 0s 2ms/step\n",
      "3/3 [==============================] - 0s 3ms/step\n",
      "7/7 [==============================] - 0s 2ms/step\n",
      "9/9 [==============================] - 0s 2ms/step\n",
      "7/7 [==============================] - 0s 2ms/step\n",
      "6/6 [==============================] - 0s 2ms/step\n",
      "3/3 [==============================] - 0s 2ms/step\n",
      "7/7 [==============================] - 0s 3ms/step\n",
      "4/4 [==============================] - 0s 2ms/step\n",
      "6/6 [==============================] - 0s 2ms/step\n",
      "4/4 [==============================] - 0s 3ms/step\n",
      "5/5 [==============================] - 0s 3ms/step\n",
      "7/7 [==============================] - 0s 2ms/step\n",
      "3/3 [==============================] - 0s 2ms/step\n",
      "1/1 [==============================] - 0s 80ms/step\n",
      "3/3 [==============================] - 0s 3ms/step\n",
      "10/10 [==============================] - 0s 2ms/step\n",
      "6/6 [==============================] - 0s 2ms/step\n",
      "6/6 [==============================] - 0s 3ms/step\n",
      "6/6 [==============================] - 0s 3ms/step\n",
      "5/5 [==============================] - 0s 2ms/step\n",
      "7/7 [==============================] - 0s 2ms/step\n",
      "9/9 [==============================] - 0s 2ms/step\n",
      "9/9 [==============================] - 0s 2ms/step\n",
      "4/4 [==============================] - 0s 2ms/step\n",
      "3/3 [==============================] - 0s 2ms/step\n",
      "9/9 [==============================] - 0s 2ms/step\n",
      "5/5 [==============================] - 0s 2ms/step\n",
      "2/2 [==============================] - 0s 3ms/step\n",
      "4/4 [==============================] - 0s 2ms/step\n",
      "3/3 [==============================] - 0s 2ms/step\n",
      "6/6 [==============================] - 0s 2ms/step\n",
      "6/6 [==============================] - 0s 2ms/step\n",
      "10/10 [==============================] - 0s 2ms/step\n",
      "5/5 [==============================] - 0s 3ms/step\n",
      "2/2 [==============================] - 0s 3ms/step\n",
      "2/2 [==============================] - 0s 3ms/step\n",
      "2/2 [==============================] - 0s 3ms/step\n",
      "4/4 [==============================] - 0s 2ms/step\n",
      "1/1 [==============================] - 0s 78ms/step\n",
      "5/5 [==============================] - 0s 2ms/step\n",
      "8/8 [==============================] - 0s 2ms/step\n",
      "12/12 [==============================] - 0s 2ms/step\n",
      "4/4 [==============================] - 0s 2ms/step\n",
      "6/6 [==============================] - 0s 2ms/step\n",
      "12/12 [==============================] - 0s 2ms/step\n",
      "6/6 [==============================] - 0s 2ms/step\n",
      "7/7 [==============================] - 0s 2ms/step\n",
      "6/6 [==============================] - 0s 2ms/step\n",
      "1/1 [==============================] - 0s 78ms/step\n",
      "7/7 [==============================] - 0s 2ms/step\n",
      "2/2 [==============================] - 0s 3ms/step\n",
      "4/4 [==============================] - 0s 2ms/step\n",
      "7/7 [==============================] - 0s 2ms/step\n",
      "6/6 [==============================] - 0s 2ms/step\n",
      "2/2 [==============================] - 0s 3ms/step\n",
      "1/1 [==============================] - 0s 85ms/step\n",
      "3/3 [==============================] - 0s 2ms/step\n",
      "9/9 [==============================] - 0s 2ms/step\n"
     ]
    }
   ],
   "source": [
    "routes_kalman = []\n",
    "rul_predicted=np.array([])\n",
    "rul_truth=np.array([])\n",
    "Score=0\n",
    "#writer = pd.ExcelWriter('RUL_Test_FD004_Turbofan.xlsx', engine='xlsxwriter')\n",
    "for route_test in routes_test:\n",
    "    # Define a dictionary containing Students data \n",
    "    data = {} \n",
    "    # Convert the dictionary into DataFrame \n",
    "    df = pd.DataFrame(data)\n",
    "    #Obtaining rul - groud truth\n",
    "    truth_dataframe=routes_test[route_test]['RUL']\n",
    "    truth=np.array(truth_dataframe.values.tolist())*RC\n",
    "    rul_truth=np.append(rul_truth,truth)\n",
    "    #Obtaining rul - predicted\n",
    "    trajectory = routes_test[route_test][SENSOR_COLS].to_numpy()\n",
    "    rul_trajectory=model.predict(trajectory)\n",
    "    rul_trajectory = pd.DataFrame(rul_trajectory, columns=['rul'])\n",
    "    z = np.array(rul_trajectory.values.tolist())\n",
    "    # intial parameters\n",
    "    n_iter = len(rul_trajectory)\n",
    "    sz = (len(rul_trajectory),) # size of array\n",
    "    # process variance\n",
    "    #Q=1/209\n",
    "    Q = 1/209\n",
    "    # allocate space for arrays\n",
    "    xhat=np.zeros(sz)      # a posteri estimate of x\n",
    "    P=np.zeros(sz)         # a posteri error estimate\n",
    "    xhatminus=np.zeros(sz) # a priori estimate of x\n",
    "    Pminus=np.zeros(sz)    # a priori error estimate\n",
    "    K=np.zeros(sz)         # gain or blending factor\n",
    "\n",
    "    R = 0.3**2 # estimate of measurement variance, change to see effect\n",
    "    # intial guesses\n",
    "    #xhat[0] = 1\n",
    "    xhat[0]=truth[0]/RC\n",
    "    P[0] = 0.0\n",
    "\n",
    "    for k in range(1,n_iter):\n",
    "        # time update\n",
    "        xhatminus[k] = xhat[k-1]\n",
    "        Pminus[k] = P[k-1]+Q\n",
    "        # measurement update\n",
    "        K[k] = Pminus[k]/( Pminus[k]+R )\n",
    "        xhat[k] = xhatminus[k]+K[k]*(z[k]-xhatminus[k])\n",
    "        P[k] = (1-K[k])*Pminus[k]\n",
    "        if(xhat[k]-truth[k]<0):\n",
    "            score=math.exp((truth[k]-xhat[k])/13)-1;\n",
    "        if (xhat[k]-truth[k]>=0):\n",
    "            score=math.exp((xhat[k]-truth[k])/10)-1;\n",
    "        Score=Score+score;\n",
    "    \n",
    "    xhat=xhat*RC\n",
    "    rul_predicted=np.append(rul_predicted,xhat)\n",
    "    routes_kalman.insert((unit_nr-1),xhat[(len(xhat)-1)])\n",
    "\n",
    "    if route_test==TRAJECTORY:\n",
    "        \n",
    "        plt.figure()\n",
    "        plt.plot(truth,'g-',label='ground truth')\n",
    "        plt.plot(z*RC,'r-',label='estimate')\n",
    "        plt.plot(xhat,'b-',label='a posteri estimate')\n",
    "        plt.legend(['ground truth','estimated','filtered'])\n",
    "        #plt.title('RUL vs cycle', fontweight='bold')\n",
    "        plt.xlabel('Cycle')\n",
    "        plt.ylabel('RUL')\n",
    "        plt.show()\n",
    "#writer.save()"
   ]
  },
  {
   "cell_type": "code",
   "execution_count": 156,
   "id": "5d8bfc0d",
   "metadata": {},
   "outputs": [
    {
     "name": "stdout",
     "output_type": "stream",
     "text": [
      "GAUSSIAN KALMAN\n",
      "MAE: 24.4089431535287\n",
      "MSE: 940.0680622293484\n",
      "RMSE: 30.660529385993133\n"
     ]
    }
   ],
   "source": [
    "from sklearn.metrics import mean_absolute_error\n",
    "from sklearn.metrics import mean_squared_error\n",
    "mae=mean_absolute_error(rul_predicted,rul_truth)\n",
    "mse=mean_squared_error(rul_predicted,rul_truth)\n",
    "rmse=np.sqrt(mse)\n",
    "print(\"GAUSSIAN KALMAN\")\n",
    "print(\"MAE:\",mae)\n",
    "print(\"MSE:\",mse)\n",
    "print(\"RMSE:\",rmse)\n",
    "#print(\"Score:\",Score)"
   ]
  },
  {
   "cell_type": "code",
   "execution_count": null,
   "id": "a7889cd1",
   "metadata": {},
   "outputs": [],
   "source": []
  },
  {
   "cell_type": "code",
   "execution_count": null,
   "id": "bee3a6ec",
   "metadata": {},
   "outputs": [],
   "source": []
  },
  {
   "cell_type": "code",
   "execution_count": null,
   "id": "028e2676",
   "metadata": {},
   "outputs": [],
   "source": []
  }
 ],
 "metadata": {
  "kernelspec": {
   "display_name": "Python 3 (ipykernel)",
   "language": "python",
   "name": "python3"
  },
  "language_info": {
   "codemirror_mode": {
    "name": "ipython",
    "version": 3
   },
   "file_extension": ".py",
   "mimetype": "text/x-python",
   "name": "python",
   "nbconvert_exporter": "python",
   "pygments_lexer": "ipython3",
   "version": "3.7.7"
  },
  "toc": {
   "base_numbering": 1,
   "nav_menu": {},
   "number_sections": true,
   "sideBar": true,
   "skip_h1_title": false,
   "title_cell": "Table of Contents",
   "title_sidebar": "Contents",
   "toc_cell": false,
   "toc_position": {},
   "toc_section_display": true,
   "toc_window_display": false
  }
 },
 "nbformat": 4,
 "nbformat_minor": 5
}
