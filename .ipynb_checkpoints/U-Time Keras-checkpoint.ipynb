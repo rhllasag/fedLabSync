{
 "cells": [
  {
   "cell_type": "markdown",
   "id": "e5498d14",
   "metadata": {},
   "source": [
    "#  Libraries"
   ]
  },
  {
   "cell_type": "code",
   "execution_count": 2,
   "id": "3d8d9694",
   "metadata": {},
   "outputs": [],
   "source": [
    "import logging\n",
    "import numpy as np\n",
    "import tensorflow as tf\n",
    "from tensorflow.keras.models import Model\n",
    "from tensorflow.keras import regularizers\n",
    "from tensorflow.keras.layers import (Input, BatchNormalization, Cropping2D,\n",
    "                                     Concatenate, MaxPooling2D,\n",
    "                                     UpSampling2D, ZeroPadding2D, Lambda,\n",
    "                                     Conv2D, AveragePooling2D)"
   ]
  },
  {
   "cell_type": "markdown",
   "id": "8d8d235c",
   "metadata": {},
   "source": [
    "# Modeling functions"
   ]
  },
  {
   "cell_type": "code",
   "execution_count": 5,
   "id": "6a3a958c",
   "metadata": {},
   "outputs": [],
   "source": [
    "def create_encoder(in_,\n",
    "                       depth,\n",
    "                       pools,\n",
    "                       filters,\n",
    "                       kernel_size,\n",
    "                       activation,\n",
    "                       dilation,\n",
    "                       padding,\n",
    "                       complexity_factor,\n",
    "                       regularizer=None,\n",
    "                       name=\"encoder\",\n",
    "                       name_prefix=\"\"):\n",
    "    \n",
    "    \n",
    "        name = \"{}{}\".format(name_prefix, name)\n",
    "        residual_connections = []\n",
    "        for i in range(depth):\n",
    "            l_name = name + \"_L%i\" % i\n",
    "            conv = Conv2D(int(filters*complexity_factor), (kernel_size, 1),\n",
    "                          activation=activation, padding=padding,\n",
    "                          kernel_regularizer=regularizer,\n",
    "                          bias_regularizer=regularizer,\n",
    "                          dilation_rate=dilation,\n",
    "                          name=l_name + \"_conv1\")(in_)\n",
    "            bn = BatchNormalization(name=l_name + \"_BN1\")(conv)\n",
    "            conv = Conv2D(int(filters*complexity_factor), (kernel_size, 1),\n",
    "                          activation=activation, padding=padding,\n",
    "                          kernel_regularizer=regularizer,\n",
    "                          bias_regularizer=regularizer,\n",
    "                          dilation_rate=dilation,\n",
    "                          name=l_name + \"_conv2\")(bn)\n",
    "            bn = BatchNormalization(name=l_name + \"_BN2\")(conv)\n",
    "            in_ = MaxPooling2D(pool_size=(pools[i], 1),\n",
    "                               name=l_name + \"_pool\")(bn)\n",
    "\n",
    "            # add bn layer to list for residual conn.\n",
    "            residual_connections.append(bn)\n",
    "            filters = int(filters * 2)\n",
    "\n",
    "        # Bottom\n",
    "        name = \"{}bottom\".format(name_prefix)\n",
    "        conv = Conv2D(int(filters*complexity_factor), (kernel_size, 1),\n",
    "                      activation=activation, padding=padding,\n",
    "                      kernel_regularizer=regularizer,\n",
    "                      bias_regularizer=regularizer,\n",
    "                      dilation_rate=1,\n",
    "                      name=name + \"_conv1\")(in_)\n",
    "        bn = BatchNormalization(name=name + \"_BN1\")(conv)\n",
    "        conv = Conv2D(int(filters*complexity_factor), (kernel_size, 1),\n",
    "                      activation=activation, padding=padding,\n",
    "                      kernel_regularizer=regularizer,\n",
    "                      bias_regularizer=regularizer,\n",
    "                      dilation_rate=1,\n",
    "                      name=name + \"_conv2\")(bn)\n",
    "        encoded = BatchNormalization(name=name + \"_BN2\")(conv)\n",
    "\n",
    "        return encoded, residual_connections, filters"
   ]
  },
  {
   "cell_type": "code",
   "execution_count": 6,
   "id": "ed65b9fa",
   "metadata": {},
   "outputs": [],
   "source": [
    "def create_dense_modeling(self,\n",
    "                              in_,\n",
    "                              in_reshaped,\n",
    "                              filters,\n",
    "                              dense_classifier_activation,\n",
    "                              regularizer,\n",
    "                              complexity_factor,\n",
    "                              name_prefix=\"\",\n",
    "                              **kwargs):\n",
    "        cls = Conv2D(filters=int(filters*complexity_factor),\n",
    "                     kernel_size=(1, 1),\n",
    "                     kernel_regularizer=regularizer,\n",
    "                     bias_regularizer=regularizer,\n",
    "                     activation=dense_classifier_activation,\n",
    "                     name=\"{}dense_classifier_out\".format(name_prefix))(in_)\n",
    "        s = (self.n_periods * self.input_dims) - cls.get_shape().as_list()[1]\n",
    "        out = self.crop_nodes_to_match(\n",
    "            node1=ZeroPadding2D(padding=[[s // 2, s // 2 + s % 2], [0, 0]])(cls),\n",
    "            node2=in_reshaped\n",
    "        )\n",
    "        return out"
   ]
  },
  {
   "cell_type": "code",
   "execution_count": 7,
   "id": "3f4ddaca",
   "metadata": {},
   "outputs": [],
   "source": [
    "def create_seq_modeling(in_,\n",
    "                            input_dims,\n",
    "                            data_per_period,\n",
    "                            n_periods,\n",
    "                            n_classes,\n",
    "                            transition_window,\n",
    "                            activation,\n",
    "                            regularizer=None,\n",
    "                            name_prefix=\"\"):\n",
    "        cls = AveragePooling2D((data_per_period, 1),\n",
    "                               name=\"{}average_pool\".format(name_prefix))(in_)\n",
    "        out = Conv2D(filters=n_classes,\n",
    "                     kernel_size=(transition_window, 1),\n",
    "                     activation=activation,\n",
    "                     kernel_regularizer=regularizer,\n",
    "                     bias_regularizer=regularizer,\n",
    "                     padding=\"same\",\n",
    "                     name=\"{}sequence_conv_out_1\".format(name_prefix))(cls)\n",
    "        out = Conv2D(filters=n_classes,\n",
    "                     kernel_size=(transition_window, 1),\n",
    "                     activation=\"softmax\",\n",
    "                     kernel_regularizer=regularizer,\n",
    "                     bias_regularizer=regularizer,\n",
    "                     padding=\"same\",\n",
    "                     name=\"{}sequence_conv_out_2\".format(name_prefix))(out)\n",
    "        s = [-1, n_periods, input_dims//data_per_period, n_classes]\n",
    "        if s[2] == 1:\n",
    "            s.pop(2)  # Squeeze the dim\n",
    "        out = Lambda(lambda x: tf.reshape(x, s),\n",
    "                     name=\"{}sequence_classification_reshaped\".format(name_prefix))(out)\n",
    "        return out"
   ]
  },
  {
   "cell_type": "markdown",
   "id": "b80d5ca6",
   "metadata": {},
   "source": [
    "# Initialize Model"
   ]
  },
  {
   "cell_type": "code",
   "execution_count": 11,
   "id": "91ef6866",
   "metadata": {},
   "outputs": [
    {
     "ename": "IndentationError",
     "evalue": "unexpected indent (3688387614.py, line 4)",
     "output_type": "error",
     "traceback": [
      "\u001b[0;36m  File \u001b[0;32m\"/tmp/ipykernel_26885/3688387614.py\"\u001b[0;36m, line \u001b[0;32m4\u001b[0m\n\u001b[0;31m    inputs = Input(shape=[self.n_periods,\u001b[0m\n\u001b[0m    ^\u001b[0m\n\u001b[0;31mIndentationError\u001b[0m\u001b[0;31m:\u001b[0m unexpected indent\n"
     ]
    }
   ],
   "source": [
    "n_periods=10\n",
    "input_dims=10\n",
    "n_channels=40\n",
    "    inputs = Input(shape=[self.n_periods,\n",
    "                                  self.,\n",
    "                                  self.n_channels])"
   ]
  },
  {
   "cell_type": "code",
   "execution_count": null,
   "id": "3ba0b7de",
   "metadata": {},
   "outputs": [],
   "source": []
  }
 ],
 "metadata": {
  "kernelspec": {
   "display_name": "Python 3 (ipykernel)",
   "language": "python",
   "name": "python3"
  },
  "language_info": {
   "codemirror_mode": {
    "name": "ipython",
    "version": 3
   },
   "file_extension": ".py",
   "mimetype": "text/x-python",
   "name": "python",
   "nbconvert_exporter": "python",
   "pygments_lexer": "ipython3",
   "version": "3.7.7"
  },
  "toc": {
   "base_numbering": 1,
   "nav_menu": {},
   "number_sections": true,
   "sideBar": true,
   "skip_h1_title": false,
   "title_cell": "Table of Contents",
   "title_sidebar": "Contents",
   "toc_cell": false,
   "toc_position": {},
   "toc_section_display": true,
   "toc_window_display": true
  }
 },
 "nbformat": 4,
 "nbformat_minor": 5
}
